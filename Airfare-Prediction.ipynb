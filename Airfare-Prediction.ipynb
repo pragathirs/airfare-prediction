{
 "cells": [
  {
   "cell_type": "code",
   "execution_count": 1,
   "id": "40c4b1a4",
   "metadata": {},
   "outputs": [],
   "source": [
    "import pandas as pd\n",
    "import numpy as np\n",
    "from sklearn.model_selection import train_test_split \n",
    "from sklearn.preprocessing import StandardScaler\n",
    "from sklearn.feature_selection import r_regression\n",
    "from sklearn.metrics import mean_absolute_percentage_error, mean_absolute_error\n",
    "from sklearn.linear_model import LinearRegression"
   ]
  },
  {
   "cell_type": "markdown",
   "id": "4e3522c4",
   "metadata": {},
   "source": [
    "# Airfares Dataset"
   ]
  },
  {
   "cell_type": "code",
   "execution_count": 2,
   "id": "e66cc579",
   "metadata": {},
   "outputs": [],
   "source": [
    "fileloc = './Airfares.csv'\n",
    "airfares = pd.read_csv(fileloc) #read the file"
   ]
  },
  {
   "cell_type": "markdown",
   "id": "29bac9c8",
   "metadata": {},
   "source": [
    "### Data Pre-processing"
   ]
  },
  {
   "cell_type": "code",
   "execution_count": 3,
   "id": "b5739e7f",
   "metadata": {},
   "outputs": [
    {
     "data": {
      "text/html": [
       "<div>\n",
       "<style scoped>\n",
       "    .dataframe tbody tr th:only-of-type {\n",
       "        vertical-align: middle;\n",
       "    }\n",
       "\n",
       "    .dataframe tbody tr th {\n",
       "        vertical-align: top;\n",
       "    }\n",
       "\n",
       "    .dataframe thead th {\n",
       "        text-align: right;\n",
       "    }\n",
       "</style>\n",
       "<table border=\"1\" class=\"dataframe\">\n",
       "  <thead>\n",
       "    <tr style=\"text-align: right;\">\n",
       "      <th></th>\n",
       "      <th>COUPON</th>\n",
       "      <th>NEW</th>\n",
       "      <th>HI</th>\n",
       "      <th>S_INCOME</th>\n",
       "      <th>E_INCOME</th>\n",
       "      <th>S_POP</th>\n",
       "      <th>E_POP</th>\n",
       "      <th>DISTANCE</th>\n",
       "      <th>PAX</th>\n",
       "      <th>FARE</th>\n",
       "      <th>VACATION_Yes</th>\n",
       "      <th>SW_Yes</th>\n",
       "      <th>SLOT_Controlled</th>\n",
       "      <th>GATE_Constrained</th>\n",
       "    </tr>\n",
       "  </thead>\n",
       "  <tbody>\n",
       "    <tr>\n",
       "      <th>0</th>\n",
       "      <td>1.00</td>\n",
       "      <td>3</td>\n",
       "      <td>5291.99</td>\n",
       "      <td>28637.0</td>\n",
       "      <td>21112.0</td>\n",
       "      <td>3036732</td>\n",
       "      <td>205711</td>\n",
       "      <td>312</td>\n",
       "      <td>7864</td>\n",
       "      <td>64.11</td>\n",
       "      <td>0</td>\n",
       "      <td>1</td>\n",
       "      <td>0</td>\n",
       "      <td>0</td>\n",
       "    </tr>\n",
       "    <tr>\n",
       "      <th>1</th>\n",
       "      <td>1.06</td>\n",
       "      <td>3</td>\n",
       "      <td>5419.16</td>\n",
       "      <td>26993.0</td>\n",
       "      <td>29838.0</td>\n",
       "      <td>3532657</td>\n",
       "      <td>7145897</td>\n",
       "      <td>576</td>\n",
       "      <td>8820</td>\n",
       "      <td>174.47</td>\n",
       "      <td>0</td>\n",
       "      <td>0</td>\n",
       "      <td>0</td>\n",
       "      <td>0</td>\n",
       "    </tr>\n",
       "    <tr>\n",
       "      <th>2</th>\n",
       "      <td>1.06</td>\n",
       "      <td>3</td>\n",
       "      <td>9185.28</td>\n",
       "      <td>30124.0</td>\n",
       "      <td>29838.0</td>\n",
       "      <td>5787293</td>\n",
       "      <td>7145897</td>\n",
       "      <td>364</td>\n",
       "      <td>6452</td>\n",
       "      <td>207.76</td>\n",
       "      <td>0</td>\n",
       "      <td>0</td>\n",
       "      <td>0</td>\n",
       "      <td>0</td>\n",
       "    </tr>\n",
       "    <tr>\n",
       "      <th>3</th>\n",
       "      <td>1.06</td>\n",
       "      <td>3</td>\n",
       "      <td>2657.35</td>\n",
       "      <td>29260.0</td>\n",
       "      <td>29838.0</td>\n",
       "      <td>7830332</td>\n",
       "      <td>7145897</td>\n",
       "      <td>612</td>\n",
       "      <td>25144</td>\n",
       "      <td>85.47</td>\n",
       "      <td>0</td>\n",
       "      <td>1</td>\n",
       "      <td>1</td>\n",
       "      <td>0</td>\n",
       "    </tr>\n",
       "    <tr>\n",
       "      <th>4</th>\n",
       "      <td>1.06</td>\n",
       "      <td>3</td>\n",
       "      <td>2657.35</td>\n",
       "      <td>29260.0</td>\n",
       "      <td>29838.0</td>\n",
       "      <td>7830332</td>\n",
       "      <td>7145897</td>\n",
       "      <td>612</td>\n",
       "      <td>25144</td>\n",
       "      <td>85.47</td>\n",
       "      <td>0</td>\n",
       "      <td>1</td>\n",
       "      <td>0</td>\n",
       "      <td>0</td>\n",
       "    </tr>\n",
       "  </tbody>\n",
       "</table>\n",
       "</div>"
      ],
      "text/plain": [
       "   COUPON  NEW       HI  S_INCOME  E_INCOME    S_POP    E_POP  DISTANCE  \\\n",
       "0    1.00    3  5291.99   28637.0   21112.0  3036732   205711       312   \n",
       "1    1.06    3  5419.16   26993.0   29838.0  3532657  7145897       576   \n",
       "2    1.06    3  9185.28   30124.0   29838.0  5787293  7145897       364   \n",
       "3    1.06    3  2657.35   29260.0   29838.0  7830332  7145897       612   \n",
       "4    1.06    3  2657.35   29260.0   29838.0  7830332  7145897       612   \n",
       "\n",
       "     PAX    FARE  VACATION_Yes  SW_Yes  SLOT_Controlled  GATE_Constrained  \n",
       "0   7864   64.11             0       1                0                 0  \n",
       "1   8820  174.47             0       0                0                 0  \n",
       "2   6452  207.76             0       0                0                 0  \n",
       "3  25144   85.47             0       1                1                 0  \n",
       "4  25144   85.47             0       1                0                 0  "
      ]
     },
     "execution_count": 3,
     "metadata": {},
     "output_type": "execute_result"
    }
   ],
   "source": [
    "airfares = pd.get_dummies(airfares, columns = ['VACATION', 'SW', 'SLOT', 'GATE'])\n",
    "airfares= airfares.drop(['S_CODE','S_CITY','E_CODE','E_CITY','VACATION_No', 'SW_No', 'SLOT_Free', 'GATE_Free'], axis = 1) #dropping the first four columns\n",
    "airfares.head()"
   ]
  },
  {
   "cell_type": "code",
   "execution_count": 4,
   "id": "ad3eb23e",
   "metadata": {},
   "outputs": [
    {
     "data": {
      "text/html": [
       "<div>\n",
       "<style scoped>\n",
       "    .dataframe tbody tr th:only-of-type {\n",
       "        vertical-align: middle;\n",
       "    }\n",
       "\n",
       "    .dataframe tbody tr th {\n",
       "        vertical-align: top;\n",
       "    }\n",
       "\n",
       "    .dataframe thead th {\n",
       "        text-align: right;\n",
       "    }\n",
       "</style>\n",
       "<table border=\"1\" class=\"dataframe\">\n",
       "  <thead>\n",
       "    <tr style=\"text-align: right;\">\n",
       "      <th></th>\n",
       "      <th>Layovers</th>\n",
       "      <th>New_Carriers</th>\n",
       "      <th>Market_Concentration</th>\n",
       "      <th>StartCity_Income</th>\n",
       "      <th>EndCity_Income</th>\n",
       "      <th>StartCity_Pop</th>\n",
       "      <th>EndCity_Pop</th>\n",
       "      <th>Distance</th>\n",
       "      <th>Passengers</th>\n",
       "      <th>Fare</th>\n",
       "      <th>Vacation</th>\n",
       "      <th>Southwest</th>\n",
       "      <th>Controlled_Airport</th>\n",
       "      <th>Gate_Constraints</th>\n",
       "    </tr>\n",
       "  </thead>\n",
       "  <tbody>\n",
       "    <tr>\n",
       "      <th>0</th>\n",
       "      <td>1.00</td>\n",
       "      <td>3</td>\n",
       "      <td>5291.99</td>\n",
       "      <td>28637.0</td>\n",
       "      <td>21112.0</td>\n",
       "      <td>3036732</td>\n",
       "      <td>205711</td>\n",
       "      <td>312</td>\n",
       "      <td>7864</td>\n",
       "      <td>64.11</td>\n",
       "      <td>0</td>\n",
       "      <td>1</td>\n",
       "      <td>0</td>\n",
       "      <td>0</td>\n",
       "    </tr>\n",
       "    <tr>\n",
       "      <th>1</th>\n",
       "      <td>1.06</td>\n",
       "      <td>3</td>\n",
       "      <td>5419.16</td>\n",
       "      <td>26993.0</td>\n",
       "      <td>29838.0</td>\n",
       "      <td>3532657</td>\n",
       "      <td>7145897</td>\n",
       "      <td>576</td>\n",
       "      <td>8820</td>\n",
       "      <td>174.47</td>\n",
       "      <td>0</td>\n",
       "      <td>0</td>\n",
       "      <td>0</td>\n",
       "      <td>0</td>\n",
       "    </tr>\n",
       "    <tr>\n",
       "      <th>2</th>\n",
       "      <td>1.06</td>\n",
       "      <td>3</td>\n",
       "      <td>9185.28</td>\n",
       "      <td>30124.0</td>\n",
       "      <td>29838.0</td>\n",
       "      <td>5787293</td>\n",
       "      <td>7145897</td>\n",
       "      <td>364</td>\n",
       "      <td>6452</td>\n",
       "      <td>207.76</td>\n",
       "      <td>0</td>\n",
       "      <td>0</td>\n",
       "      <td>0</td>\n",
       "      <td>0</td>\n",
       "    </tr>\n",
       "    <tr>\n",
       "      <th>3</th>\n",
       "      <td>1.06</td>\n",
       "      <td>3</td>\n",
       "      <td>2657.35</td>\n",
       "      <td>29260.0</td>\n",
       "      <td>29838.0</td>\n",
       "      <td>7830332</td>\n",
       "      <td>7145897</td>\n",
       "      <td>612</td>\n",
       "      <td>25144</td>\n",
       "      <td>85.47</td>\n",
       "      <td>0</td>\n",
       "      <td>1</td>\n",
       "      <td>1</td>\n",
       "      <td>0</td>\n",
       "    </tr>\n",
       "    <tr>\n",
       "      <th>4</th>\n",
       "      <td>1.06</td>\n",
       "      <td>3</td>\n",
       "      <td>2657.35</td>\n",
       "      <td>29260.0</td>\n",
       "      <td>29838.0</td>\n",
       "      <td>7830332</td>\n",
       "      <td>7145897</td>\n",
       "      <td>612</td>\n",
       "      <td>25144</td>\n",
       "      <td>85.47</td>\n",
       "      <td>0</td>\n",
       "      <td>1</td>\n",
       "      <td>0</td>\n",
       "      <td>0</td>\n",
       "    </tr>\n",
       "  </tbody>\n",
       "</table>\n",
       "</div>"
      ],
      "text/plain": [
       "   Layovers  New_Carriers  Market_Concentration  StartCity_Income  \\\n",
       "0      1.00             3               5291.99           28637.0   \n",
       "1      1.06             3               5419.16           26993.0   \n",
       "2      1.06             3               9185.28           30124.0   \n",
       "3      1.06             3               2657.35           29260.0   \n",
       "4      1.06             3               2657.35           29260.0   \n",
       "\n",
       "   EndCity_Income  StartCity_Pop  EndCity_Pop  Distance  Passengers    Fare  \\\n",
       "0         21112.0        3036732       205711       312        7864   64.11   \n",
       "1         29838.0        3532657      7145897       576        8820  174.47   \n",
       "2         29838.0        5787293      7145897       364        6452  207.76   \n",
       "3         29838.0        7830332      7145897       612       25144   85.47   \n",
       "4         29838.0        7830332      7145897       612       25144   85.47   \n",
       "\n",
       "   Vacation  Southwest  Controlled_Airport  Gate_Constraints  \n",
       "0         0          1                   0                 0  \n",
       "1         0          0                   0                 0  \n",
       "2         0          0                   0                 0  \n",
       "3         0          1                   1                 0  \n",
       "4         0          1                   0                 0  "
      ]
     },
     "execution_count": 4,
     "metadata": {},
     "output_type": "execute_result"
    }
   ],
   "source": [
    "airfares = airfares.rename(columns={'COUPON': 'Layovers','NEW':'New_Carriers','VACATION_Yes':'Vacation',\n",
    "                                    'SW_Yes':'Southwest','HI':'Market_Concentration','S_INCOME':'StartCity_Income',\n",
    "                                    'E_INCOME':'EndCity_Income','S_POP':'StartCity_Pop','E_POP':'EndCity_Pop',\n",
    "                                    'SLOT_Controlled':'Controlled_Airport','GATE_Constrained':'Gate_Constraints',\n",
    "                                    'DISTANCE':'Distance','PAX':'Passengers','FARE':'Fare' })\n",
    "airfares.head()"
   ]
  },
  {
   "cell_type": "code",
   "execution_count": 5,
   "id": "0d70aae2",
   "metadata": {},
   "outputs": [
    {
     "data": {
      "text/plain": [
       "Layovers                0\n",
       "New_Carriers            0\n",
       "Market_Concentration    0\n",
       "StartCity_Income        0\n",
       "EndCity_Income          0\n",
       "StartCity_Pop           0\n",
       "EndCity_Pop             0\n",
       "Distance                0\n",
       "Passengers              0\n",
       "Fare                    0\n",
       "Vacation                0\n",
       "Southwest               0\n",
       "Controlled_Airport      0\n",
       "Gate_Constraints        0\n",
       "dtype: int64"
      ]
     },
     "execution_count": 5,
     "metadata": {},
     "output_type": "execute_result"
    }
   ],
   "source": [
    "airfares.isnull().sum()"
   ]
  },
  {
   "cell_type": "code",
   "execution_count": 6,
   "id": "bf25a4af",
   "metadata": {},
   "outputs": [],
   "source": [
    "airfaresStd= StandardScaler()\n",
    "airfaresStd.fit(airfares)\n",
    "airfaresScaled =airfaresStd.transform(airfares)\n",
    "columns_names=airfares.columns"
   ]
  },
  {
   "cell_type": "code",
   "execution_count": 7,
   "id": "86389f73",
   "metadata": {},
   "outputs": [
    {
     "data": {
      "text/html": [
       "<div>\n",
       "<style scoped>\n",
       "    .dataframe tbody tr th:only-of-type {\n",
       "        vertical-align: middle;\n",
       "    }\n",
       "\n",
       "    .dataframe tbody tr th {\n",
       "        vertical-align: top;\n",
       "    }\n",
       "\n",
       "    .dataframe thead th {\n",
       "        text-align: right;\n",
       "    }\n",
       "</style>\n",
       "<table border=\"1\" class=\"dataframe\">\n",
       "  <thead>\n",
       "    <tr style=\"text-align: right;\">\n",
       "      <th></th>\n",
       "      <th>Layovers</th>\n",
       "      <th>New_Carriers</th>\n",
       "      <th>Market_Concentration</th>\n",
       "      <th>StartCity_Income</th>\n",
       "      <th>EndCity_Income</th>\n",
       "      <th>StartCity_Pop</th>\n",
       "      <th>EndCity_Pop</th>\n",
       "      <th>Distance</th>\n",
       "      <th>Passengers</th>\n",
       "      <th>Fare</th>\n",
       "      <th>Vacation</th>\n",
       "      <th>Southwest</th>\n",
       "      <th>Controlled_Airport</th>\n",
       "      <th>Gate_Constraints</th>\n",
       "    </tr>\n",
       "  </thead>\n",
       "  <tbody>\n",
       "    <tr>\n",
       "      <th>0</th>\n",
       "      <td>-0.993492</td>\n",
       "      <td>0.323855</td>\n",
       "      <td>0.493262</td>\n",
       "      <td>0.244098</td>\n",
       "      <td>-1.421905</td>\n",
       "      <td>-0.505305</td>\n",
       "      <td>-1.093410</td>\n",
       "      <td>-1.027748</td>\n",
       "      <td>-0.372821</td>\n",
       "      <td>-1.273869</td>\n",
       "      <td>-0.6027</td>\n",
       "      <td>1.512832</td>\n",
       "      <td>-0.631762</td>\n",
       "      <td>-0.491167</td>\n",
       "    </tr>\n",
       "    <tr>\n",
       "      <th>1</th>\n",
       "      <td>-0.698884</td>\n",
       "      <td>0.323855</td>\n",
       "      <td>0.567073</td>\n",
       "      <td>-0.213409</td>\n",
       "      <td>0.471877</td>\n",
       "      <td>-0.340470</td>\n",
       "      <td>1.445565</td>\n",
       "      <td>-0.618912</td>\n",
       "      <td>-0.300353</td>\n",
       "      <td>0.178947</td>\n",
       "      <td>-0.6027</td>\n",
       "      <td>-0.661012</td>\n",
       "      <td>-0.631762</td>\n",
       "      <td>-0.491167</td>\n",
       "    </tr>\n",
       "    <tr>\n",
       "      <th>2</th>\n",
       "      <td>-0.698884</td>\n",
       "      <td>0.323855</td>\n",
       "      <td>2.752973</td>\n",
       "      <td>0.657914</td>\n",
       "      <td>0.471877</td>\n",
       "      <td>0.408921</td>\n",
       "      <td>1.445565</td>\n",
       "      <td>-0.947220</td>\n",
       "      <td>-0.479857</td>\n",
       "      <td>0.617188</td>\n",
       "      <td>-0.6027</td>\n",
       "      <td>-0.661012</td>\n",
       "      <td>-0.631762</td>\n",
       "      <td>-0.491167</td>\n",
       "    </tr>\n",
       "    <tr>\n",
       "      <th>3</th>\n",
       "      <td>-0.698884</td>\n",
       "      <td>0.323855</td>\n",
       "      <td>-1.035913</td>\n",
       "      <td>0.417472</td>\n",
       "      <td>0.471877</td>\n",
       "      <td>1.087981</td>\n",
       "      <td>1.445565</td>\n",
       "      <td>-0.563162</td>\n",
       "      <td>0.937075</td>\n",
       "      <td>-0.992679</td>\n",
       "      <td>-0.6027</td>\n",
       "      <td>1.512832</td>\n",
       "      <td>1.582875</td>\n",
       "      <td>-0.491167</td>\n",
       "    </tr>\n",
       "    <tr>\n",
       "      <th>4</th>\n",
       "      <td>-0.698884</td>\n",
       "      <td>0.323855</td>\n",
       "      <td>-1.035913</td>\n",
       "      <td>0.417472</td>\n",
       "      <td>0.471877</td>\n",
       "      <td>1.087981</td>\n",
       "      <td>1.445565</td>\n",
       "      <td>-0.563162</td>\n",
       "      <td>0.937075</td>\n",
       "      <td>-0.992679</td>\n",
       "      <td>-0.6027</td>\n",
       "      <td>1.512832</td>\n",
       "      <td>-0.631762</td>\n",
       "      <td>-0.491167</td>\n",
       "    </tr>\n",
       "  </tbody>\n",
       "</table>\n",
       "</div>"
      ],
      "text/plain": [
       "   Layovers  New_Carriers  Market_Concentration  StartCity_Income  \\\n",
       "0 -0.993492      0.323855              0.493262          0.244098   \n",
       "1 -0.698884      0.323855              0.567073         -0.213409   \n",
       "2 -0.698884      0.323855              2.752973          0.657914   \n",
       "3 -0.698884      0.323855             -1.035913          0.417472   \n",
       "4 -0.698884      0.323855             -1.035913          0.417472   \n",
       "\n",
       "   EndCity_Income  StartCity_Pop  EndCity_Pop  Distance  Passengers      Fare  \\\n",
       "0       -1.421905      -0.505305    -1.093410 -1.027748   -0.372821 -1.273869   \n",
       "1        0.471877      -0.340470     1.445565 -0.618912   -0.300353  0.178947   \n",
       "2        0.471877       0.408921     1.445565 -0.947220   -0.479857  0.617188   \n",
       "3        0.471877       1.087981     1.445565 -0.563162    0.937075 -0.992679   \n",
       "4        0.471877       1.087981     1.445565 -0.563162    0.937075 -0.992679   \n",
       "\n",
       "   Vacation  Southwest  Controlled_Airport  Gate_Constraints  \n",
       "0   -0.6027   1.512832           -0.631762         -0.491167  \n",
       "1   -0.6027  -0.661012           -0.631762         -0.491167  \n",
       "2   -0.6027  -0.661012           -0.631762         -0.491167  \n",
       "3   -0.6027   1.512832            1.582875         -0.491167  \n",
       "4   -0.6027   1.512832           -0.631762         -0.491167  "
      ]
     },
     "execution_count": 7,
     "metadata": {},
     "output_type": "execute_result"
    }
   ],
   "source": [
    "airfaresScaled =pd.DataFrame(airfaresScaled,columns=columns_names)\n",
    "airfaresScaled.head()"
   ]
  },
  {
   "cell_type": "code",
   "execution_count": 8,
   "id": "ce8f925d",
   "metadata": {},
   "outputs": [],
   "source": [
    "airfaresScaledX = airfaresScaled.drop('Fare',axis=1,inplace=False)\n",
    "airfaresScaledY = airfaresScaled['Fare'].values\n",
    "\n",
    "airfaresX_train,airfaresX_test,airfaresy_train,airfaresy_test = train_test_split(airfaresScaledX,airfaresScaledY,test_size=.25,random_state=1)"
   ]
  },
  {
   "cell_type": "code",
   "execution_count": 9,
   "id": "35961fac",
   "metadata": {},
   "outputs": [
    {
     "data": {
      "text/html": [
       "<div>\n",
       "<style scoped>\n",
       "    .dataframe tbody tr th:only-of-type {\n",
       "        vertical-align: middle;\n",
       "    }\n",
       "\n",
       "    .dataframe tbody tr th {\n",
       "        vertical-align: top;\n",
       "    }\n",
       "\n",
       "    .dataframe thead th {\n",
       "        text-align: right;\n",
       "    }\n",
       "</style>\n",
       "<table border=\"1\" class=\"dataframe\">\n",
       "  <thead>\n",
       "    <tr style=\"text-align: right;\">\n",
       "      <th></th>\n",
       "      <th>Layovers</th>\n",
       "      <th>New_Carriers</th>\n",
       "      <th>Market_Concentration</th>\n",
       "      <th>StartCity_Income</th>\n",
       "      <th>EndCity_Income</th>\n",
       "      <th>StartCity_Pop</th>\n",
       "      <th>EndCity_Pop</th>\n",
       "      <th>Distance</th>\n",
       "      <th>Passengers</th>\n",
       "      <th>Vacation</th>\n",
       "      <th>Southwest</th>\n",
       "      <th>Controlled_Airport</th>\n",
       "      <th>Gate_Constraints</th>\n",
       "    </tr>\n",
       "  </thead>\n",
       "  <tbody>\n",
       "    <tr>\n",
       "      <th>39</th>\n",
       "      <td>-0.404277</td>\n",
       "      <td>0.323855</td>\n",
       "      <td>2.479454</td>\n",
       "      <td>1.455768</td>\n",
       "      <td>-0.526667</td>\n",
       "      <td>1.350822</td>\n",
       "      <td>-0.686168</td>\n",
       "      <td>-0.676211</td>\n",
       "      <td>-0.263588</td>\n",
       "      <td>-0.602700</td>\n",
       "      <td>-0.661012</td>\n",
       "      <td>1.582875</td>\n",
       "      <td>2.035967</td>\n",
       "    </tr>\n",
       "    <tr>\n",
       "      <th>538</th>\n",
       "      <td>0.381343</td>\n",
       "      <td>0.323855</td>\n",
       "      <td>0.403890</td>\n",
       "      <td>-0.849855</td>\n",
       "      <td>-0.399272</td>\n",
       "      <td>1.495391</td>\n",
       "      <td>-0.235840</td>\n",
       "      <td>0.969973</td>\n",
       "      <td>-0.501613</td>\n",
       "      <td>-0.602700</td>\n",
       "      <td>1.512832</td>\n",
       "      <td>-0.631762</td>\n",
       "      <td>-0.491167</td>\n",
       "    </tr>\n",
       "    <tr>\n",
       "      <th>464</th>\n",
       "      <td>-0.993492</td>\n",
       "      <td>0.323855</td>\n",
       "      <td>-0.775912</td>\n",
       "      <td>-0.849855</td>\n",
       "      <td>-0.816181</td>\n",
       "      <td>1.495391</td>\n",
       "      <td>-0.190558</td>\n",
       "      <td>-1.334375</td>\n",
       "      <td>-0.480312</td>\n",
       "      <td>-0.602700</td>\n",
       "      <td>-0.661012</td>\n",
       "      <td>-0.631762</td>\n",
       "      <td>-0.491167</td>\n",
       "    </tr>\n",
       "    <tr>\n",
       "      <th>195</th>\n",
       "      <td>-0.502479</td>\n",
       "      <td>0.323855</td>\n",
       "      <td>0.056973</td>\n",
       "      <td>0.244098</td>\n",
       "      <td>0.233364</td>\n",
       "      <td>-0.505305</td>\n",
       "      <td>-0.158548</td>\n",
       "      <td>-0.183749</td>\n",
       "      <td>-0.467046</td>\n",
       "      <td>-0.602700</td>\n",
       "      <td>-0.661012</td>\n",
       "      <td>-0.631762</td>\n",
       "      <td>2.035967</td>\n",
       "    </tr>\n",
       "    <tr>\n",
       "      <th>147</th>\n",
       "      <td>1.412468</td>\n",
       "      <td>0.323855</td>\n",
       "      <td>-1.513824</td>\n",
       "      <td>0.657914</td>\n",
       "      <td>-0.670339</td>\n",
       "      <td>0.408921</td>\n",
       "      <td>-0.730675</td>\n",
       "      <td>2.162411</td>\n",
       "      <td>-0.193090</td>\n",
       "      <td>1.659199</td>\n",
       "      <td>-0.661012</td>\n",
       "      <td>-0.631762</td>\n",
       "      <td>-0.491167</td>\n",
       "    </tr>\n",
       "  </tbody>\n",
       "</table>\n",
       "</div>"
      ],
      "text/plain": [
       "     Layovers  New_Carriers  Market_Concentration  StartCity_Income  \\\n",
       "39  -0.404277      0.323855              2.479454          1.455768   \n",
       "538  0.381343      0.323855              0.403890         -0.849855   \n",
       "464 -0.993492      0.323855             -0.775912         -0.849855   \n",
       "195 -0.502479      0.323855              0.056973          0.244098   \n",
       "147  1.412468      0.323855             -1.513824          0.657914   \n",
       "\n",
       "     EndCity_Income  StartCity_Pop  EndCity_Pop  Distance  Passengers  \\\n",
       "39        -0.526667       1.350822    -0.686168 -0.676211   -0.263588   \n",
       "538       -0.399272       1.495391    -0.235840  0.969973   -0.501613   \n",
       "464       -0.816181       1.495391    -0.190558 -1.334375   -0.480312   \n",
       "195        0.233364      -0.505305    -0.158548 -0.183749   -0.467046   \n",
       "147       -0.670339       0.408921    -0.730675  2.162411   -0.193090   \n",
       "\n",
       "     Vacation  Southwest  Controlled_Airport  Gate_Constraints  \n",
       "39  -0.602700  -0.661012            1.582875          2.035967  \n",
       "538 -0.602700   1.512832           -0.631762         -0.491167  \n",
       "464 -0.602700  -0.661012           -0.631762         -0.491167  \n",
       "195 -0.602700  -0.661012           -0.631762          2.035967  \n",
       "147  1.659199  -0.661012           -0.631762         -0.491167  "
      ]
     },
     "execution_count": 9,
     "metadata": {},
     "output_type": "execute_result"
    }
   ],
   "source": [
    "airfaresX_train.head()"
   ]
  },
  {
   "cell_type": "markdown",
   "id": "a3b18997",
   "metadata": {},
   "source": [
    "## 1) Simple Model (1 variable)"
   ]
  },
  {
   "cell_type": "code",
   "execution_count": 10,
   "id": "12dd3e8e",
   "metadata": {},
   "outputs": [],
   "source": [
    "# Define X and y using the airfares Data\n",
    "airfares_SimpleX_train = airfaresX_train[['Distance']].values\n",
    "airfares_SimpleY_train = airfaresy_train\n",
    "airfares_SimpleX_test = airfaresX_test[['Distance']].values\n",
    "airfares_SimpleY_test = airfaresy_test"
   ]
  },
  {
   "cell_type": "code",
   "execution_count": 11,
   "id": "1bd9b37d",
   "metadata": {},
   "outputs": [
    {
     "data": {
      "text/html": [
       "<style>#sk-container-id-1 {color: black;background-color: white;}#sk-container-id-1 pre{padding: 0;}#sk-container-id-1 div.sk-toggleable {background-color: white;}#sk-container-id-1 label.sk-toggleable__label {cursor: pointer;display: block;width: 100%;margin-bottom: 0;padding: 0.3em;box-sizing: border-box;text-align: center;}#sk-container-id-1 label.sk-toggleable__label-arrow:before {content: \"▸\";float: left;margin-right: 0.25em;color: #696969;}#sk-container-id-1 label.sk-toggleable__label-arrow:hover:before {color: black;}#sk-container-id-1 div.sk-estimator:hover label.sk-toggleable__label-arrow:before {color: black;}#sk-container-id-1 div.sk-toggleable__content {max-height: 0;max-width: 0;overflow: hidden;text-align: left;background-color: #f0f8ff;}#sk-container-id-1 div.sk-toggleable__content pre {margin: 0.2em;color: black;border-radius: 0.25em;background-color: #f0f8ff;}#sk-container-id-1 input.sk-toggleable__control:checked~div.sk-toggleable__content {max-height: 200px;max-width: 100%;overflow: auto;}#sk-container-id-1 input.sk-toggleable__control:checked~label.sk-toggleable__label-arrow:before {content: \"▾\";}#sk-container-id-1 div.sk-estimator input.sk-toggleable__control:checked~label.sk-toggleable__label {background-color: #d4ebff;}#sk-container-id-1 div.sk-label input.sk-toggleable__control:checked~label.sk-toggleable__label {background-color: #d4ebff;}#sk-container-id-1 input.sk-hidden--visually {border: 0;clip: rect(1px 1px 1px 1px);clip: rect(1px, 1px, 1px, 1px);height: 1px;margin: -1px;overflow: hidden;padding: 0;position: absolute;width: 1px;}#sk-container-id-1 div.sk-estimator {font-family: monospace;background-color: #f0f8ff;border: 1px dotted black;border-radius: 0.25em;box-sizing: border-box;margin-bottom: 0.5em;}#sk-container-id-1 div.sk-estimator:hover {background-color: #d4ebff;}#sk-container-id-1 div.sk-parallel-item::after {content: \"\";width: 100%;border-bottom: 1px solid gray;flex-grow: 1;}#sk-container-id-1 div.sk-label:hover label.sk-toggleable__label {background-color: #d4ebff;}#sk-container-id-1 div.sk-serial::before {content: \"\";position: absolute;border-left: 1px solid gray;box-sizing: border-box;top: 0;bottom: 0;left: 50%;z-index: 0;}#sk-container-id-1 div.sk-serial {display: flex;flex-direction: column;align-items: center;background-color: white;padding-right: 0.2em;padding-left: 0.2em;position: relative;}#sk-container-id-1 div.sk-item {position: relative;z-index: 1;}#sk-container-id-1 div.sk-parallel {display: flex;align-items: stretch;justify-content: center;background-color: white;position: relative;}#sk-container-id-1 div.sk-item::before, #sk-container-id-1 div.sk-parallel-item::before {content: \"\";position: absolute;border-left: 1px solid gray;box-sizing: border-box;top: 0;bottom: 0;left: 50%;z-index: -1;}#sk-container-id-1 div.sk-parallel-item {display: flex;flex-direction: column;z-index: 1;position: relative;background-color: white;}#sk-container-id-1 div.sk-parallel-item:first-child::after {align-self: flex-end;width: 50%;}#sk-container-id-1 div.sk-parallel-item:last-child::after {align-self: flex-start;width: 50%;}#sk-container-id-1 div.sk-parallel-item:only-child::after {width: 0;}#sk-container-id-1 div.sk-dashed-wrapped {border: 1px dashed gray;margin: 0 0.4em 0.5em 0.4em;box-sizing: border-box;padding-bottom: 0.4em;background-color: white;}#sk-container-id-1 div.sk-label label {font-family: monospace;font-weight: bold;display: inline-block;line-height: 1.2em;}#sk-container-id-1 div.sk-label-container {text-align: center;}#sk-container-id-1 div.sk-container {/* jupyter's `normalize.less` sets `[hidden] { display: none; }` but bootstrap.min.css set `[hidden] { display: none !important; }` so we also need the `!important` here to be able to override the default hidden behavior on the sphinx rendered scikit-learn.org. See: https://github.com/scikit-learn/scikit-learn/issues/21755 */display: inline-block !important;position: relative;}#sk-container-id-1 div.sk-text-repr-fallback {display: none;}</style><div id=\"sk-container-id-1\" class=\"sk-top-container\"><div class=\"sk-text-repr-fallback\"><pre>LinearRegression()</pre><b>In a Jupyter environment, please rerun this cell to show the HTML representation or trust the notebook. <br />On GitHub, the HTML representation is unable to render, please try loading this page with nbviewer.org.</b></div><div class=\"sk-container\" hidden><div class=\"sk-item\"><div class=\"sk-estimator sk-toggleable\"><input class=\"sk-toggleable__control sk-hidden--visually\" id=\"sk-estimator-id-1\" type=\"checkbox\" checked><label for=\"sk-estimator-id-1\" class=\"sk-toggleable__label sk-toggleable__label-arrow\">LinearRegression</label><div class=\"sk-toggleable__content\"><pre>LinearRegression()</pre></div></div></div></div></div>"
      ],
      "text/plain": [
       "LinearRegression()"
      ]
     },
     "execution_count": 11,
     "metadata": {},
     "output_type": "execute_result"
    }
   ],
   "source": [
    "airfaresModel1 = LinearRegression()\n",
    "airfaresModel1.fit(airfares_SimpleX_train, airfares_SimpleY_train)"
   ]
  },
  {
   "cell_type": "code",
   "execution_count": 12,
   "id": "ac13ab47",
   "metadata": {},
   "outputs": [
    {
     "data": {
      "text/plain": [
       "0.43762111852429464"
      ]
     },
     "execution_count": 12,
     "metadata": {},
     "output_type": "execute_result"
    }
   ],
   "source": [
    "airfaresModel1.score(airfares_SimpleX_train, airfares_SimpleY_train)"
   ]
  },
  {
   "cell_type": "code",
   "execution_count": 13,
   "id": "9761509f",
   "metadata": {},
   "outputs": [
    {
     "data": {
      "text/plain": [
       "0.47881947854930895"
      ]
     },
     "execution_count": 13,
     "metadata": {},
     "output_type": "execute_result"
    }
   ],
   "source": [
    "airfaresModel1.score(airfares_SimpleX_test, airfares_SimpleY_test)"
   ]
  },
  {
   "cell_type": "code",
   "execution_count": 14,
   "id": "1b53da45",
   "metadata": {},
   "outputs": [
    {
     "name": "stdout",
     "output_type": "stream",
     "text": [
      "Beta1 = [0.66294602]\n"
     ]
    }
   ],
   "source": [
    "print(\"Beta1 =\", airfaresModel1.coef_)"
   ]
  },
  {
   "cell_type": "code",
   "execution_count": 15,
   "id": "49a399ab",
   "metadata": {},
   "outputs": [
    {
     "name": "stdout",
     "output_type": "stream",
     "text": [
      "Beta0 = -0.009926747113106869\n"
     ]
    }
   ],
   "source": [
    "print(\"Beta0 =\", airfaresModel1.intercept_)"
   ]
  },
  {
   "cell_type": "markdown",
   "id": "d8d12d6c",
   "metadata": {},
   "source": [
    "Comments:\n",
    "\n",
    "The independent variable 'Distance' was chosen after testing all independent variables for the one that gave the highest score (R-squared) in the above code.\n",
    "\n",
    "_____________________________________________________________________________________________________________________________________________________________\n",
    "\n",
    "\n",
    " A model that is underfit will have high training and high testing error while an overfit model will have extremely low training error but a high testing error. Here in this case, both training and testing data have low R-squared scores . which means the errors are high. When both the training and testing errors are high, the model is UNDERFITTING."
   ]
  },
  {
   "cell_type": "markdown",
   "id": "287bac8a",
   "metadata": {},
   "source": [
    "## 2) Medium Complexity  Model (2 or 3 variables)"
   ]
  },
  {
   "cell_type": "code",
   "execution_count": 16,
   "id": "3706e93b",
   "metadata": {},
   "outputs": [],
   "source": [
    "# Define X and y using the airfares Data\n",
    "airfares_MediumX_train = airfaresX_train[['Distance','EndCity_Income','Southwest']].values\n",
    "airfares_MediumY_train = airfaresy_train\n",
    "airfares_MediumX_test = airfaresX_test[['Distance','EndCity_Income','Southwest']].values\n",
    "airfares_MediumY_test = airfaresy_test"
   ]
  },
  {
   "cell_type": "code",
   "execution_count": 17,
   "id": "206e3716",
   "metadata": {},
   "outputs": [
    {
     "data": {
      "text/html": [
       "<style>#sk-container-id-2 {color: black;background-color: white;}#sk-container-id-2 pre{padding: 0;}#sk-container-id-2 div.sk-toggleable {background-color: white;}#sk-container-id-2 label.sk-toggleable__label {cursor: pointer;display: block;width: 100%;margin-bottom: 0;padding: 0.3em;box-sizing: border-box;text-align: center;}#sk-container-id-2 label.sk-toggleable__label-arrow:before {content: \"▸\";float: left;margin-right: 0.25em;color: #696969;}#sk-container-id-2 label.sk-toggleable__label-arrow:hover:before {color: black;}#sk-container-id-2 div.sk-estimator:hover label.sk-toggleable__label-arrow:before {color: black;}#sk-container-id-2 div.sk-toggleable__content {max-height: 0;max-width: 0;overflow: hidden;text-align: left;background-color: #f0f8ff;}#sk-container-id-2 div.sk-toggleable__content pre {margin: 0.2em;color: black;border-radius: 0.25em;background-color: #f0f8ff;}#sk-container-id-2 input.sk-toggleable__control:checked~div.sk-toggleable__content {max-height: 200px;max-width: 100%;overflow: auto;}#sk-container-id-2 input.sk-toggleable__control:checked~label.sk-toggleable__label-arrow:before {content: \"▾\";}#sk-container-id-2 div.sk-estimator input.sk-toggleable__control:checked~label.sk-toggleable__label {background-color: #d4ebff;}#sk-container-id-2 div.sk-label input.sk-toggleable__control:checked~label.sk-toggleable__label {background-color: #d4ebff;}#sk-container-id-2 input.sk-hidden--visually {border: 0;clip: rect(1px 1px 1px 1px);clip: rect(1px, 1px, 1px, 1px);height: 1px;margin: -1px;overflow: hidden;padding: 0;position: absolute;width: 1px;}#sk-container-id-2 div.sk-estimator {font-family: monospace;background-color: #f0f8ff;border: 1px dotted black;border-radius: 0.25em;box-sizing: border-box;margin-bottom: 0.5em;}#sk-container-id-2 div.sk-estimator:hover {background-color: #d4ebff;}#sk-container-id-2 div.sk-parallel-item::after {content: \"\";width: 100%;border-bottom: 1px solid gray;flex-grow: 1;}#sk-container-id-2 div.sk-label:hover label.sk-toggleable__label {background-color: #d4ebff;}#sk-container-id-2 div.sk-serial::before {content: \"\";position: absolute;border-left: 1px solid gray;box-sizing: border-box;top: 0;bottom: 0;left: 50%;z-index: 0;}#sk-container-id-2 div.sk-serial {display: flex;flex-direction: column;align-items: center;background-color: white;padding-right: 0.2em;padding-left: 0.2em;position: relative;}#sk-container-id-2 div.sk-item {position: relative;z-index: 1;}#sk-container-id-2 div.sk-parallel {display: flex;align-items: stretch;justify-content: center;background-color: white;position: relative;}#sk-container-id-2 div.sk-item::before, #sk-container-id-2 div.sk-parallel-item::before {content: \"\";position: absolute;border-left: 1px solid gray;box-sizing: border-box;top: 0;bottom: 0;left: 50%;z-index: -1;}#sk-container-id-2 div.sk-parallel-item {display: flex;flex-direction: column;z-index: 1;position: relative;background-color: white;}#sk-container-id-2 div.sk-parallel-item:first-child::after {align-self: flex-end;width: 50%;}#sk-container-id-2 div.sk-parallel-item:last-child::after {align-self: flex-start;width: 50%;}#sk-container-id-2 div.sk-parallel-item:only-child::after {width: 0;}#sk-container-id-2 div.sk-dashed-wrapped {border: 1px dashed gray;margin: 0 0.4em 0.5em 0.4em;box-sizing: border-box;padding-bottom: 0.4em;background-color: white;}#sk-container-id-2 div.sk-label label {font-family: monospace;font-weight: bold;display: inline-block;line-height: 1.2em;}#sk-container-id-2 div.sk-label-container {text-align: center;}#sk-container-id-2 div.sk-container {/* jupyter's `normalize.less` sets `[hidden] { display: none; }` but bootstrap.min.css set `[hidden] { display: none !important; }` so we also need the `!important` here to be able to override the default hidden behavior on the sphinx rendered scikit-learn.org. See: https://github.com/scikit-learn/scikit-learn/issues/21755 */display: inline-block !important;position: relative;}#sk-container-id-2 div.sk-text-repr-fallback {display: none;}</style><div id=\"sk-container-id-2\" class=\"sk-top-container\"><div class=\"sk-text-repr-fallback\"><pre>LinearRegression()</pre><b>In a Jupyter environment, please rerun this cell to show the HTML representation or trust the notebook. <br />On GitHub, the HTML representation is unable to render, please try loading this page with nbviewer.org.</b></div><div class=\"sk-container\" hidden><div class=\"sk-item\"><div class=\"sk-estimator sk-toggleable\"><input class=\"sk-toggleable__control sk-hidden--visually\" id=\"sk-estimator-id-2\" type=\"checkbox\" checked><label for=\"sk-estimator-id-2\" class=\"sk-toggleable__label sk-toggleable__label-arrow\">LinearRegression</label><div class=\"sk-toggleable__content\"><pre>LinearRegression()</pre></div></div></div></div></div>"
      ],
      "text/plain": [
       "LinearRegression()"
      ]
     },
     "execution_count": 17,
     "metadata": {},
     "output_type": "execute_result"
    }
   ],
   "source": [
    "airfaresModel2 = LinearRegression()\n",
    "airfaresModel2.fit(airfares_MediumX_train, airfares_MediumY_train)"
   ]
  },
  {
   "cell_type": "code",
   "execution_count": 18,
   "id": "110fbd0b",
   "metadata": {},
   "outputs": [
    {
     "data": {
      "text/plain": [
       "0.610576155706366"
      ]
     },
     "execution_count": 18,
     "metadata": {},
     "output_type": "execute_result"
    }
   ],
   "source": [
    "airfaresModel2.score(airfares_MediumX_train, airfares_MediumY_train)"
   ]
  },
  {
   "cell_type": "code",
   "execution_count": 19,
   "id": "c6dd5c29",
   "metadata": {},
   "outputs": [
    {
     "data": {
      "text/plain": [
       "0.6350767875189953"
      ]
     },
     "execution_count": 19,
     "metadata": {},
     "output_type": "execute_result"
    }
   ],
   "source": [
    "airfaresModel2.score(airfares_MediumX_test, airfares_MediumY_test)"
   ]
  },
  {
   "cell_type": "code",
   "execution_count": 20,
   "id": "e07a60ce",
   "metadata": {},
   "outputs": [
    {
     "name": "stdout",
     "output_type": "stream",
     "text": [
      "Beta1 , Beta2 , Beta 3 = [ 0.56534892  0.14301121 -0.36354182]\n"
     ]
    }
   ],
   "source": [
    "print(\"Beta1 , Beta2 , Beta 3 =\", airfaresModel2.coef_)"
   ]
  },
  {
   "cell_type": "code",
   "execution_count": 21,
   "id": "f0fd8ff3",
   "metadata": {},
   "outputs": [
    {
     "name": "stdout",
     "output_type": "stream",
     "text": [
      "Beta0 = -0.011898605668299946\n"
     ]
    }
   ],
   "source": [
    "print(\"Beta0 =\", airfaresModel2.intercept_)"
   ]
  },
  {
   "cell_type": "markdown",
   "id": "5b73b558",
   "metadata": {},
   "source": [
    "Comments:\n",
    "\n",
    "In both training and testing, the R-Squared values have increased from the Simple Model (model-1) with single explanatory variable to Medium model( model 2) with more than one explanatory variables. This suggests that the training and testing errors have also reduced from model 1 to model 2. In other words, by increasing the number of variables, the underfitting problem was reduced from model 1 to model 2, therefore the performance is better. But the testing accuracy is higher than the training accuracy, which means that the model is not overfitting and hence there is still scope of adding more variables to the model even better. \n",
    "\n",
    "_____________________________________________________________________________________________________________________________\n",
    "\n",
    "_2) Do you notice any major changes in the magnitudes of your parameter estimates?_ \n",
    "\n",
    "\n",
    "In model 1, we took just one variable 'Distance' with the parameter estimate (or co-efficient) as 0.66. In model 2, the co-effecient of 'Distace' has reduced to 0.56 ehen taken along with other relevant variables. \n",
    "\n",
    "__________________________________________________________________________________________________\n",
    "\n",
    "________________________________________________________\n",
    "_3) Pick one parameter estimate and, in words, describe what it means?_\n",
    "\n",
    "To answer this, let us consider the independent variable 'SouthWest' that's included in the model. The parameter estimate or the co-efficient of this variable is -0.36 This means it has a negative impact on the Fare(dependent variable), i.e, if Southwest airlines serve that route, then the Fares will be be lower and vice-versa. This makes a logical argument considering SouthWest Airlines is a Low Cost Carrier. \n",
    "\n",
    "\n",
    "\n",
    "_______________________________________________________________________________________________________________________________"
   ]
  },
  {
   "cell_type": "markdown",
   "id": "38884c78",
   "metadata": {},
   "source": [
    "## 3) Lasso Model (all variables)"
   ]
  },
  {
   "cell_type": "code",
   "execution_count": 22,
   "id": "4ab06f6b",
   "metadata": {},
   "outputs": [],
   "source": [
    "from sklearn.model_selection import cross_val_score\n",
    "from sklearn.model_selection import RepeatedKFold\n",
    "from sklearn.linear_model import Lasso,Ridge"
   ]
  },
  {
   "cell_type": "code",
   "execution_count": 23,
   "id": "168fd5c4",
   "metadata": {},
   "outputs": [],
   "source": [
    "airfares_LassoX = airfaresScaled[['Layovers','New_Carriers','Vacation','Southwest','Market_Concentration','StartCity_Income',\n",
    "                                'EndCity_Income','StartCity_Pop','EndCity_Pop','Controlled_Airport','Gate_Constraints',\n",
    "                                'Distance','Passengers']].values\n",
    "airfares_LassoY = airfaresScaled['Fare'].values"
   ]
  },
  {
   "cell_type": "code",
   "execution_count": 24,
   "id": "a5abb0f4",
   "metadata": {},
   "outputs": [
    {
     "data": {
      "text/html": [
       "<style>#sk-container-id-3 {color: black;background-color: white;}#sk-container-id-3 pre{padding: 0;}#sk-container-id-3 div.sk-toggleable {background-color: white;}#sk-container-id-3 label.sk-toggleable__label {cursor: pointer;display: block;width: 100%;margin-bottom: 0;padding: 0.3em;box-sizing: border-box;text-align: center;}#sk-container-id-3 label.sk-toggleable__label-arrow:before {content: \"▸\";float: left;margin-right: 0.25em;color: #696969;}#sk-container-id-3 label.sk-toggleable__label-arrow:hover:before {color: black;}#sk-container-id-3 div.sk-estimator:hover label.sk-toggleable__label-arrow:before {color: black;}#sk-container-id-3 div.sk-toggleable__content {max-height: 0;max-width: 0;overflow: hidden;text-align: left;background-color: #f0f8ff;}#sk-container-id-3 div.sk-toggleable__content pre {margin: 0.2em;color: black;border-radius: 0.25em;background-color: #f0f8ff;}#sk-container-id-3 input.sk-toggleable__control:checked~div.sk-toggleable__content {max-height: 200px;max-width: 100%;overflow: auto;}#sk-container-id-3 input.sk-toggleable__control:checked~label.sk-toggleable__label-arrow:before {content: \"▾\";}#sk-container-id-3 div.sk-estimator input.sk-toggleable__control:checked~label.sk-toggleable__label {background-color: #d4ebff;}#sk-container-id-3 div.sk-label input.sk-toggleable__control:checked~label.sk-toggleable__label {background-color: #d4ebff;}#sk-container-id-3 input.sk-hidden--visually {border: 0;clip: rect(1px 1px 1px 1px);clip: rect(1px, 1px, 1px, 1px);height: 1px;margin: -1px;overflow: hidden;padding: 0;position: absolute;width: 1px;}#sk-container-id-3 div.sk-estimator {font-family: monospace;background-color: #f0f8ff;border: 1px dotted black;border-radius: 0.25em;box-sizing: border-box;margin-bottom: 0.5em;}#sk-container-id-3 div.sk-estimator:hover {background-color: #d4ebff;}#sk-container-id-3 div.sk-parallel-item::after {content: \"\";width: 100%;border-bottom: 1px solid gray;flex-grow: 1;}#sk-container-id-3 div.sk-label:hover label.sk-toggleable__label {background-color: #d4ebff;}#sk-container-id-3 div.sk-serial::before {content: \"\";position: absolute;border-left: 1px solid gray;box-sizing: border-box;top: 0;bottom: 0;left: 50%;z-index: 0;}#sk-container-id-3 div.sk-serial {display: flex;flex-direction: column;align-items: center;background-color: white;padding-right: 0.2em;padding-left: 0.2em;position: relative;}#sk-container-id-3 div.sk-item {position: relative;z-index: 1;}#sk-container-id-3 div.sk-parallel {display: flex;align-items: stretch;justify-content: center;background-color: white;position: relative;}#sk-container-id-3 div.sk-item::before, #sk-container-id-3 div.sk-parallel-item::before {content: \"\";position: absolute;border-left: 1px solid gray;box-sizing: border-box;top: 0;bottom: 0;left: 50%;z-index: -1;}#sk-container-id-3 div.sk-parallel-item {display: flex;flex-direction: column;z-index: 1;position: relative;background-color: white;}#sk-container-id-3 div.sk-parallel-item:first-child::after {align-self: flex-end;width: 50%;}#sk-container-id-3 div.sk-parallel-item:last-child::after {align-self: flex-start;width: 50%;}#sk-container-id-3 div.sk-parallel-item:only-child::after {width: 0;}#sk-container-id-3 div.sk-dashed-wrapped {border: 1px dashed gray;margin: 0 0.4em 0.5em 0.4em;box-sizing: border-box;padding-bottom: 0.4em;background-color: white;}#sk-container-id-3 div.sk-label label {font-family: monospace;font-weight: bold;display: inline-block;line-height: 1.2em;}#sk-container-id-3 div.sk-label-container {text-align: center;}#sk-container-id-3 div.sk-container {/* jupyter's `normalize.less` sets `[hidden] { display: none; }` but bootstrap.min.css set `[hidden] { display: none !important; }` so we also need the `!important` here to be able to override the default hidden behavior on the sphinx rendered scikit-learn.org. See: https://github.com/scikit-learn/scikit-learn/issues/21755 */display: inline-block !important;position: relative;}#sk-container-id-3 div.sk-text-repr-fallback {display: none;}</style><div id=\"sk-container-id-3\" class=\"sk-top-container\"><div class=\"sk-text-repr-fallback\"><pre>Lasso(alpha=0.1)</pre><b>In a Jupyter environment, please rerun this cell to show the HTML representation or trust the notebook. <br />On GitHub, the HTML representation is unable to render, please try loading this page with nbviewer.org.</b></div><div class=\"sk-container\" hidden><div class=\"sk-item\"><div class=\"sk-estimator sk-toggleable\"><input class=\"sk-toggleable__control sk-hidden--visually\" id=\"sk-estimator-id-3\" type=\"checkbox\" checked><label for=\"sk-estimator-id-3\" class=\"sk-toggleable__label sk-toggleable__label-arrow\">Lasso</label><div class=\"sk-toggleable__content\"><pre>Lasso(alpha=0.1)</pre></div></div></div></div></div>"
      ],
      "text/plain": [
       "Lasso(alpha=0.1)"
      ]
     },
     "execution_count": 24,
     "metadata": {},
     "output_type": "execute_result"
    }
   ],
   "source": [
    "airfaresModel3 = Lasso(alpha=0.1) \n",
    "#higher value of alpha results in an output where all co-efficients are zero. Hence taking a less agressive alpha value.\n",
    "\n",
    "airfaresModel3.fit(airfares_LassoX, airfares_LassoY) "
   ]
  },
  {
   "cell_type": "code",
   "execution_count": 25,
   "id": "71eabfbf",
   "metadata": {},
   "outputs": [
    {
     "name": "stdout",
     "output_type": "stream",
     "text": [
      " Mean MAPE: -1.181\n"
     ]
    }
   ],
   "source": [
    "# define model evaluation method\n",
    "CrossValidation1 = RepeatedKFold(n_splits=10, n_repeats=3, random_state=1)\n",
    "# evaluate model\n",
    "scores = cross_val_score(airfaresModel3, airfares_LassoX, airfares_LassoY, scoring='neg_mean_absolute_percentage_error', cv=CrossValidation1)\n",
    "print(' Mean MAPE: %.3f' % (np.mean(scores)))"
   ]
  },
  {
   "cell_type": "code",
   "execution_count": 26,
   "id": "a4881642",
   "metadata": {},
   "outputs": [
    {
     "data": {
      "text/plain": [
       "0.7048386992556904"
      ]
     },
     "execution_count": 26,
     "metadata": {},
     "output_type": "execute_result"
    }
   ],
   "source": [
    "airfaresModel3.score(airfares_LassoX, airfares_LassoY)"
   ]
  },
  {
   "cell_type": "code",
   "execution_count": 27,
   "id": "61f768de",
   "metadata": {},
   "outputs": [
    {
     "name": "stdout",
     "output_type": "stream",
     "text": [
      "Betas = [ 0.          0.         -0.20298437 -0.28791107  0.04362156  0.\n",
      "  0.02327602  0.          0.00945258  0.01227607  0.03789444  0.53047473\n",
      " -0.        ]\n"
     ]
    }
   ],
   "source": [
    "print(\"Betas =\", airfaresModel3.coef_)"
   ]
  },
  {
   "cell_type": "code",
   "execution_count": 28,
   "id": "9432ee0c",
   "metadata": {},
   "outputs": [
    {
     "name": "stdout",
     "output_type": "stream",
     "text": [
      "Beta0 = -2.4653650234317924e-17\n"
     ]
    }
   ],
   "source": [
    "print(\"Beta0 =\", airfaresModel3.intercept_)"
   ]
  },
  {
   "cell_type": "markdown",
   "id": "4dd37e85",
   "metadata": {},
   "source": [
    "By using the Lasso method for parameter reduction, we get the coefficients of the following independent variables to be zero and can be eiminated from the model.\n",
    "\n",
    "Layovers, New_Carriers,StartCity_Income, StartCity_Pop, Passengers\n",
    "\n",
    "\n",
    "This could be because of two reasons: (i) some of these variables are umimportant in determining the value of the dependent variable (ii) they are being explained by other variables that have non-zero weights and share a multi-collinearity with these dropped independent variables. "
   ]
  },
  {
   "cell_type": "markdown",
   "id": "eaef8c8d",
   "metadata": {},
   "source": [
    "## 4) Models Comparision"
   ]
  },
  {
   "cell_type": "code",
   "execution_count": 29,
   "id": "d1bd4790",
   "metadata": {},
   "outputs": [],
   "source": [
    "# Define X and y for cross validation using the airfares Data\n",
    "airfares_SimpleX = airfaresScaled[['Distance']].values\n",
    "airfares_SimpleY = airfaresScaled['Fare'].values\n",
    "airfares_MediumX = airfaresScaled[['Distance','EndCity_Income','Southwest']].values\n",
    "airfares_MediumY = airfaresScaled['Fare'].values"
   ]
  },
  {
   "cell_type": "code",
   "execution_count": 30,
   "id": "1bddddc4",
   "metadata": {},
   "outputs": [],
   "source": [
    "airfareMAPE_Model1 = cross_val_score(airfaresModel1, airfares_SimpleX, airfares_SimpleY, scoring='neg_mean_absolute_percentage_error', cv=CrossValidation1)\n",
    "airfareMAPE_Model2 = cross_val_score(airfaresModel2, airfares_MediumX, airfares_MediumY, scoring='neg_mean_absolute_percentage_error', cv=CrossValidation1)\n",
    "airfareMAPE_Model3 = cross_val_score(airfaresModel3, airfares_LassoX, airfares_LassoY, scoring='neg_mean_absolute_percentage_error', cv=CrossValidation1)"
   ]
  },
  {
   "cell_type": "code",
   "execution_count": 31,
   "id": "aeebac8e",
   "metadata": {},
   "outputs": [
    {
     "name": "stdout",
     "output_type": "stream",
     "text": [
      "MAPE of Simple Model: -1.818\n",
      "MAPE of Medium Complexity Model: -1.411\n",
      "MAPE of Lasso Model: -1.181\n",
      "\n",
      " Lasso Model gives the least error out of all the three models. \n"
     ]
    }
   ],
   "source": [
    "print('MAPE of Simple Model: %.3f' % (np.mean(airfareMAPE_Model1)))\n",
    "print('MAPE of Medium Complexity Model: %.3f' % (np.mean(airfareMAPE_Model2)))\n",
    "print('MAPE of Lasso Model: %.3f' % (np.mean(airfareMAPE_Model3)))\n",
    "print('\\n Lasso Model gives the least error out of all the three models. ')"
   ]
  },
  {
   "attachments": {
    "image-4.png": {
     "image/png": "[encoded data removed]"
    }
   },
   "cell_type": "markdown",
   "id": "6ebe6b4d",
   "metadata": {},
   "source": [
    "![image-4.png](attachment:image-4.png)"
   ]
  }
 ],
 "metadata": {
  "kernelspec": {
   "display_name": "Python 3 (ipykernel)",
   "language": "python",
   "name": "python3"
  },
  "language_info": {
   "codemirror_mode": {
    "name": "ipython",
    "version": 3
   },
   "file_extension": ".py",
   "mimetype": "text/x-python",
   "name": "python",
   "nbconvert_exporter": "python",
   "pygments_lexer": "ipython3",
   "version": "3.9.13"
  }
 },
 "nbformat": 4,
 "nbformat_minor": 5
}
